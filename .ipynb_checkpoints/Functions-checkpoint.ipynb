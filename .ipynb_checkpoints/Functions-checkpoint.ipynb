{
 "cells": [
  {
   "cell_type": "code",
   "execution_count": 1,
   "id": "d88fa486",
   "metadata": {},
   "outputs": [
    {
     "name": "stdout",
     "output_type": "stream",
     "text": [
      "5 4 3 2 1\n",
      "4 3 2 1\n",
      "3 2 1\n",
      "2 1\n",
      "1\n"
     ]
    }
   ],
   "source": [
    "def num(x):\n",
    "    if x > 0:\n",
    "        print(*[x for x in range(x, 0, -1)], sep=\" \")\n",
    "        num(x-1)\n",
    "\n",
    "num(5)"
   ]
  },
  {
   "cell_type": "code",
   "execution_count": null,
   "id": "473a26a0",
   "metadata": {},
   "outputs": [],
   "source": [
    "series \n",
    "\n",
    "lam_num = lambda x: lambda y: lambda z: lam_num(x - 1)"
   ]
  }
 ],
 "metadata": {
  "kernelspec": {
   "display_name": "Python 3 (ipykernel)",
   "language": "python",
   "name": "python3"
  },
  "language_info": {
   "codemirror_mode": {
    "name": "ipython",
    "version": 3
   },
   "file_extension": ".py",
   "mimetype": "text/x-python",
   "name": "python",
   "nbconvert_exporter": "python",
   "pygments_lexer": "ipython3",
   "version": "3.10.4"
  }
 },
 "nbformat": 4,
 "nbformat_minor": 5
}
